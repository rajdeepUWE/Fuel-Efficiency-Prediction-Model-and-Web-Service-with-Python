{
 "cells": [
  {
   "cell_type": "code",
   "execution_count": null,
   "id": "8b007d39",
   "metadata": {},
   "outputs": [],
   "source": [
    "import pickle\n",
    "from flask import Flask, request, jsonify\n",
    "from model_files.ml_model import predict_mpg\n",
    "\n",
    "app = Flask(__name__)\n",
    "\n",
    "# Load the pre-trained model using pickle\n",
    "with open('model_files/model.bin', 'rb') as model_file:\n",
    "    model = pickle.load(model_file)\n",
    "\n",
    "@app.route('/predict', methods=['POST'])\n",
    "def predict():\n",
    "    try:\n",
    "        # Get input data from the request\n",
    "        vehicle_config = request.get_json()\n",
    "\n",
    "        # Use the predict_mpg function from ml_model module\n",
    "        predictions = predict_mpg(model, vehicle_config)\n",
    "\n",
    "        # Prepare the result\n",
    "        result = {\n",
    "            'mpg_prediction': predictions.tolist()\n",
    "        }\n",
    "\n",
    "        return jsonify(result)\n",
    "    except Exception as e:\n",
    "        return jsonify({'error': str(e)})\n",
    "\n",
    "if __name__ == '__main__':\n",
    "    app.run(debug=True, host='0.0.0.0', port=9696)\n"
   ]
  }
 ],
 "metadata": {
  "kernelspec": {
   "display_name": "Python 3 (ipykernel)",
   "language": "python",
   "name": "python3"
  },
  "language_info": {
   "codemirror_mode": {
    "name": "ipython",
    "version": 3
   },
   "file_extension": ".py",
   "mimetype": "text/x-python",
   "name": "python",
   "nbconvert_exporter": "python",
   "pygments_lexer": "ipython3",
   "version": "3.10.9"
  }
 },
 "nbformat": 4,
 "nbformat_minor": 5
}
